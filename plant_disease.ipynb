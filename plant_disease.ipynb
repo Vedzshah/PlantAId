{
 "cells": [
  {
   "cell_type": "markdown",
   "id": "8e2bbc3d-e71d-4c52-882c-61a59d93cd24",
   "metadata": {},
   "source": [
    "Importing library"
   ]
  },
  {
   "cell_type": "code",
   "execution_count": 1,
   "id": "00e79ca2-eed4-4317-ab35-99bb883c82a9",
   "metadata": {},
   "outputs": [],
   "source": [
    "import tensorflow as tf\n",
    "import matplotlib.pyplot as plt\n",
    "import pandas as pd\n",
    "import seaborn as sns\n",
    "import keras"
   ]
  },
  {
   "cell_type": "code",
   "execution_count": 2,
   "id": "d84a3b1b-5cd0-4dc8-aa9c-a29c45592d99",
   "metadata": {},
   "outputs": [
    {
     "name": "stdout",
     "output_type": "stream",
     "text": [
      "Found 18345 files belonging to 10 classes.\n"
     ]
    }
   ],
   "source": [
    "training_set = keras.utils.image_dataset_from_directory(\n",
    "    \"train\",\n",
    "    labels=\"inferred\",\n",
    "    label_mode=\"categorical\",\n",
    "    class_names=None,\n",
    "    color_mode=\"rgb\",\n",
    "    batch_size=32,\n",
    "    image_size=(128, 128),\n",
    "    shuffle=True,\n",
    "    seed=None,\n",
    "    validation_split=None,\n",
    "    subset=None,\n",
    "    interpolation=\"bilinear\",\n",
    "    follow_links=False,\n",
    "    crop_to_aspect_ratio=False,\n",
    ")"
   ]
  },
  {
   "cell_type": "code",
   "execution_count": 3,
   "id": "a1dd5980-be37-4a2d-8433-f76c9d4f9c83",
   "metadata": {},
   "outputs": [
    {
     "name": "stdout",
     "output_type": "stream",
     "text": [
      "Found 4585 files belonging to 10 classes.\n"
     ]
    }
   ],
   "source": [
    "validation_set = keras.utils.image_dataset_from_directory(\n",
    "    \"valid\",\n",
    "    labels=\"inferred\",\n",
    "    label_mode=\"categorical\",\n",
    "    class_names=None,\n",
    "    color_mode=\"rgb\",\n",
    "    batch_size=32,\n",
    "    image_size=(128, 128),\n",
    "    shuffle=True,\n",
    "    seed=None,\n",
    "    validation_split=None,\n",
    "    subset=None,\n",
    "    interpolation=\"bilinear\",\n",
    "    follow_links=False,\n",
    "    crop_to_aspect_ratio=False,\n",
    ")"
   ]
  },
  {
   "cell_type": "markdown",
   "id": "4b04322f-871f-428e-8aa1-e22c6e82d2ba",
   "metadata": {},
   "source": [
    "data spilt in 70 30 ratio"
   ]
  },
  {
   "cell_type": "code",
   "execution_count": 4,
   "id": "2f16a4f0-1069-4c76-94c7-2fd35fa6cb1f",
   "metadata": {},
   "outputs": [
    {
     "data": {
      "text/plain": [
       "<BatchDataset element_spec=(TensorSpec(shape=(None, 128, 128, 3), dtype=tf.float32, name=None), TensorSpec(shape=(None, 10), dtype=tf.float32, name=None))>"
      ]
     },
     "execution_count": 4,
     "metadata": {},
     "output_type": "execute_result"
    }
   ],
   "source": [
    "training_set\n"
   ]
  },
  {
   "cell_type": "code",
   "execution_count": 5,
   "id": "da9db658-b7f1-47c2-a3e7-ae64fb248d93",
   "metadata": {},
   "outputs": [
    {
     "name": "stdout",
     "output_type": "stream",
     "text": [
      "tf.Tensor(\n",
      "[[[[140.5  145.5  138.5 ]\n",
      "   [141.   146.   139.  ]\n",
      "   [146.5  151.5  144.5 ]\n",
      "   ...\n",
      "   [120.5  125.5  119.5 ]\n",
      "   [126.25 131.25 125.25]\n",
      "   [127.75 132.75 126.75]]\n",
      "\n",
      "  [[140.25 145.25 138.25]\n",
      "   [137.75 142.75 135.75]\n",
      "   [141.5  146.5  139.5 ]\n",
      "   ...\n",
      "   [118.25 123.25 117.25]\n",
      "   [125.   130.   124.  ]\n",
      "   [132.25 137.25 131.25]]\n",
      "\n",
      "  [[141.   146.   139.  ]\n",
      "   [139.   144.   137.  ]\n",
      "   [131.75 136.75 129.75]\n",
      "   ...\n",
      "   [119.75 124.75 118.75]\n",
      "   [120.75 125.75 119.75]\n",
      "   [148.25 153.25 147.25]]\n",
      "\n",
      "  ...\n",
      "\n",
      "  [[148.5  155.5  148.5 ]\n",
      "   [147.   154.   146.  ]\n",
      "   [144.75 151.75 143.75]\n",
      "   ...\n",
      "   [129.   133.   132.  ]\n",
      "   [128.   132.   131.  ]\n",
      "   [127.5  131.5  130.5 ]]\n",
      "\n",
      "  [[146.5  153.5  146.5 ]\n",
      "   [145.75 152.75 144.75]\n",
      "   [144.5  151.5  143.5 ]\n",
      "   ...\n",
      "   [129.   133.   132.  ]\n",
      "   [128.   132.   131.  ]\n",
      "   [127.5  131.5  130.5 ]]\n",
      "\n",
      "  [[145.25 152.25 145.25]\n",
      "   [145.   152.   144.  ]\n",
      "   [144.25 151.25 143.25]\n",
      "   ...\n",
      "   [129.   133.   132.  ]\n",
      "   [128.   132.   131.  ]\n",
      "   [127.5  131.5  130.5 ]]]\n",
      "\n",
      "\n",
      " [[[252.   247.5  253.5 ]\n",
      "   [248.25 244.   249.5 ]\n",
      "   [244.   239.5  245.5 ]\n",
      "   ...\n",
      "   [239.5  220.5  250.5 ]\n",
      "   [237.   218.   247.5 ]\n",
      "   [253.5  239.5  255.  ]]\n",
      "\n",
      "  [[240.   235.75 241.25]\n",
      "   [253.25 249.   254.75]\n",
      "   [253.75 250.   254.25]\n",
      "   ...\n",
      "   [235.75 219.75 248.75]\n",
      "   [215.25 199.25 228.25]\n",
      "   [224.   207.   239.  ]]\n",
      "\n",
      "  [[249.5  246.   250.5 ]\n",
      "   [255.   252.5  255.  ]\n",
      "   [254.25 251.25 254.75]\n",
      "   ...\n",
      "   [252.5  240.5  255.  ]\n",
      "   [240.   224.   251.5 ]\n",
      "   [235.25 219.5  242.5 ]]\n",
      "\n",
      "  ...\n",
      "\n",
      "  [[252.   252.   253.  ]\n",
      "   [248.25 248.25 250.25]\n",
      "   [254.5  254.5  255.  ]\n",
      "   ...\n",
      "   [255.   255.   255.  ]\n",
      "   [255.   255.   255.  ]\n",
      "   [255.   255.   255.  ]]\n",
      "\n",
      "  [[253.5  253.5  255.  ]\n",
      "   [254.5  254.5  255.  ]\n",
      "   [252.75 252.75 254.  ]\n",
      "   ...\n",
      "   [255.   255.   255.  ]\n",
      "   [255.   255.   255.  ]\n",
      "   [255.   255.   255.  ]]\n",
      "\n",
      "  [[253.75 253.75 254.75]\n",
      "   [253.   253.   254.  ]\n",
      "   [254.5  254.5  255.  ]\n",
      "   ...\n",
      "   [255.   255.   255.  ]\n",
      "   [255.   255.   255.  ]\n",
      "   [255.   255.   255.  ]]]\n",
      "\n",
      "\n",
      " [[[146.5  121.5  114.5 ]\n",
      "   [142.   117.   110.  ]\n",
      "   [129.75 104.75  97.75]\n",
      "   ...\n",
      "   [158.   139.   125.  ]\n",
      "   [182.25 163.25 149.25]\n",
      "   [167.75 148.75 134.75]]\n",
      "\n",
      "  [[162.5  137.5  130.5 ]\n",
      "   [137.   112.   105.  ]\n",
      "   [145.5  120.5  113.5 ]\n",
      "   ...\n",
      "   [183.   164.   150.  ]\n",
      "   [170.25 151.25 137.25]\n",
      "   [161.75 142.75 128.75]]\n",
      "\n",
      "  [[151.   126.   119.  ]\n",
      "   [156.   131.   124.  ]\n",
      "   [143.5  118.5  111.5 ]\n",
      "   ...\n",
      "   [182.75 162.75 151.75]\n",
      "   [163.5  143.5  132.5 ]\n",
      "   [157.75 137.75 126.75]]\n",
      "\n",
      "  ...\n",
      "\n",
      "  [[112.25  89.25  81.25]\n",
      "   [138.5  115.5  107.5 ]\n",
      "   [130.75 107.75  99.75]\n",
      "   ...\n",
      "   [175.75 158.75 150.75]\n",
      "   [181.25 164.25 156.25]\n",
      "   [165.25 148.25 140.25]]\n",
      "\n",
      "  [[144.75 121.75 113.75]\n",
      "   [128.75 105.75  97.75]\n",
      "   [138.   115.   107.  ]\n",
      "   ...\n",
      "   [157.75 140.75 132.75]\n",
      "   [173.5  156.5  148.5 ]\n",
      "   [179.   162.   154.  ]]\n",
      "\n",
      "  [[128.75 105.75  97.75]\n",
      "   [137.5  114.5  106.5 ]\n",
      "   [118.25  95.25  87.25]\n",
      "   ...\n",
      "   [177.   160.   152.  ]\n",
      "   [177.25 160.25 152.25]\n",
      "   [181.   164.   156.  ]]]\n",
      "\n",
      "\n",
      " ...\n",
      "\n",
      "\n",
      " [[[124.75 123.75 118.75]\n",
      "   [128.5  127.5  122.5 ]\n",
      "   [134.75 133.75 128.75]\n",
      "   ...\n",
      "   [137.5  137.5  137.5 ]\n",
      "   [128.25 128.25 128.25]\n",
      "   [129.5  129.5  129.5 ]]\n",
      "\n",
      "  [[126.75 125.75 120.75]\n",
      "   [130.25 129.25 124.25]\n",
      "   [132.75 131.75 126.75]\n",
      "   ...\n",
      "   [126.5  126.5  126.5 ]\n",
      "   [130.25 130.25 130.25]\n",
      "   [133.75 133.75 133.75]]\n",
      "\n",
      "  [[132.5  131.5  126.5 ]\n",
      "   [136.25 135.25 130.25]\n",
      "   [137.   136.   131.  ]\n",
      "   ...\n",
      "   [120.75 120.75 120.75]\n",
      "   [121.75 121.75 121.75]\n",
      "   [121.25 121.25 121.25]]\n",
      "\n",
      "  ...\n",
      "\n",
      "  [[ 96.5   96.5   98.5 ]\n",
      "   [100.75 100.75 102.75]\n",
      "   [102.75 102.75 104.75]\n",
      "   ...\n",
      "   [122.   126.   127.  ]\n",
      "   [123.25 127.25 128.25]\n",
      "   [124.25 128.25 129.25]]\n",
      "\n",
      "  [[103.75 103.75 105.75]\n",
      "   [100.   100.   102.  ]\n",
      "   [100.5  100.5  102.5 ]\n",
      "   ...\n",
      "   [119.5  123.5  124.5 ]\n",
      "   [122.5  126.5  127.5 ]\n",
      "   [123.   127.   128.  ]]\n",
      "\n",
      "  [[103.75 103.75 105.75]\n",
      "   [102.   102.   104.  ]\n",
      "   [105.25 105.25 107.25]\n",
      "   ...\n",
      "   [121.   125.   126.  ]\n",
      "   [125.25 129.25 130.25]\n",
      "   [125.25 129.25 130.25]]]\n",
      "\n",
      "\n",
      " [[[ 95.5   87.5  108.5 ]\n",
      "   [ 95.25  87.25 108.25]\n",
      "   [109.75 101.75 122.75]\n",
      "   ...\n",
      "   [137.25 133.25 156.25]\n",
      "   [142.5  138.5  161.5 ]\n",
      "   [142.   138.   161.  ]]\n",
      "\n",
      "  [[109.5  101.5  122.5 ]\n",
      "   [117.   109.   130.  ]\n",
      "   [110.   102.   123.  ]\n",
      "   ...\n",
      "   [141.   137.   160.  ]\n",
      "   [147.75 143.75 166.75]\n",
      "   [148.5  144.5  167.5 ]]\n",
      "\n",
      "  [[ 89.25  81.25 102.25]\n",
      "   [112.   104.   125.  ]\n",
      "   [113.25 105.25 126.25]\n",
      "   ...\n",
      "   [142.   138.   161.  ]\n",
      "   [146.   142.   165.  ]\n",
      "   [145.   141.   164.  ]]\n",
      "\n",
      "  ...\n",
      "\n",
      "  [[ 76.25  69.25  85.25]\n",
      "   [ 73.25  66.25  82.25]\n",
      "   [ 77.75  70.75  86.75]\n",
      "   ...\n",
      "   [103.    95.   116.  ]\n",
      "   [105.5   97.5  118.5 ]\n",
      "   [102.    94.   115.  ]]\n",
      "\n",
      "  [[ 80.    73.    89.  ]\n",
      "   [ 72.    65.    81.  ]\n",
      "   [ 72.25  65.25  81.25]\n",
      "   ...\n",
      "   [ 94.25  86.25 107.25]\n",
      "   [103.25  95.25 116.25]\n",
      "   [104.    96.   117.  ]]\n",
      "\n",
      "  [[ 76.25  69.25  85.25]\n",
      "   [ 74.75  67.75  83.75]\n",
      "   [ 75.5   68.5   84.5 ]\n",
      "   ...\n",
      "   [ 95.25  87.25 108.25]\n",
      "   [105.25  97.25 118.25]\n",
      "   [101.25  93.25 114.25]]]\n",
      "\n",
      "\n",
      " [[[156.25 163.25 192.25]\n",
      "   [156.25 163.25 192.25]\n",
      "   [157.25 164.25 193.25]\n",
      "   ...\n",
      "   [127.75 131.75 160.75]\n",
      "   [129.   133.   162.  ]\n",
      "   [124.   128.   157.  ]]\n",
      "\n",
      "  [[160.5  167.5  196.5 ]\n",
      "   [155.5  162.5  191.5 ]\n",
      "   [154.75 161.75 190.75]\n",
      "   ...\n",
      "   [131.5  135.5  164.5 ]\n",
      "   [132.5  136.5  165.5 ]\n",
      "   [129.25 133.25 162.25]]\n",
      "\n",
      "  [[159.25 166.25 195.25]\n",
      "   [154.5  161.5  190.5 ]\n",
      "   [153.75 160.75 189.75]\n",
      "   ...\n",
      "   [141.75 145.75 174.75]\n",
      "   [140.   144.   173.  ]\n",
      "   [131.   135.   164.  ]]\n",
      "\n",
      "  ...\n",
      "\n",
      "  [[110.   105.   125.  ]\n",
      "   [108.5  103.5  123.5 ]\n",
      "   [108.25 103.25 123.25]\n",
      "   ...\n",
      "   [ 90.5   86.5  113.5 ]\n",
      "   [ 84.    80.   107.  ]\n",
      "   [ 95.    91.   118.  ]]\n",
      "\n",
      "  [[105.75 100.75 120.75]\n",
      "   [112.   107.   127.  ]\n",
      "   [113.75 108.75 128.75]\n",
      "   ...\n",
      "   [ 84.75  80.75 107.75]\n",
      "   [ 82.    78.   105.  ]\n",
      "   [ 89.25  85.25 112.25]]\n",
      "\n",
      "  [[107.   102.   122.  ]\n",
      "   [108.25 103.25 123.25]\n",
      "   [111.   106.   126.  ]\n",
      "   ...\n",
      "   [ 86.75  82.75 109.75]\n",
      "   [ 89.25  85.25 112.25]\n",
      "   [ 88.    84.   111.  ]]]], shape=(32, 128, 128, 3), dtype=float32) (32, 128, 128, 3)\n",
      "tf.Tensor(\n",
      "[[0. 0. 0. 0. 0. 0. 0. 1. 0. 0.]\n",
      " [0. 0. 0. 0. 0. 0. 0. 0. 0. 1.]\n",
      " [0. 0. 0. 0. 0. 1. 0. 0. 0. 0.]\n",
      " [0. 0. 0. 0. 1. 0. 0. 0. 0. 0.]\n",
      " [0. 0. 0. 0. 0. 0. 0. 0. 0. 1.]\n",
      " [0. 0. 0. 0. 0. 1. 0. 0. 0. 0.]\n",
      " [0. 0. 0. 0. 0. 1. 0. 0. 0. 0.]\n",
      " [0. 0. 0. 0. 0. 1. 0. 0. 0. 0.]\n",
      " [0. 0. 0. 0. 0. 0. 0. 0. 0. 1.]\n",
      " [0. 0. 0. 0. 0. 0. 1. 0. 0. 0.]\n",
      " [0. 1. 0. 0. 0. 0. 0. 0. 0. 0.]\n",
      " [1. 0. 0. 0. 0. 0. 0. 0. 0. 0.]\n",
      " [0. 0. 0. 0. 0. 1. 0. 0. 0. 0.]\n",
      " [0. 0. 0. 0. 1. 0. 0. 0. 0. 0.]\n",
      " [0. 0. 0. 0. 0. 0. 0. 0. 0. 1.]\n",
      " [0. 1. 0. 0. 0. 0. 0. 0. 0. 0.]\n",
      " [0. 0. 0. 0. 0. 1. 0. 0. 0. 0.]\n",
      " [0. 0. 0. 0. 0. 0. 0. 0. 0. 1.]\n",
      " [0. 0. 0. 0. 0. 0. 0. 0. 1. 0.]\n",
      " [0. 0. 0. 0. 0. 0. 0. 0. 0. 1.]\n",
      " [0. 0. 0. 0. 0. 0. 0. 1. 0. 0.]\n",
      " [0. 0. 0. 0. 0. 0. 0. 0. 0. 1.]\n",
      " [0. 0. 0. 1. 0. 0. 0. 0. 0. 0.]\n",
      " [0. 0. 0. 0. 0. 0. 0. 0. 1. 0.]\n",
      " [0. 0. 0. 0. 0. 1. 0. 0. 0. 0.]\n",
      " [1. 0. 0. 0. 0. 0. 0. 0. 0. 0.]\n",
      " [0. 0. 0. 0. 0. 0. 0. 1. 0. 0.]\n",
      " [0. 0. 1. 0. 0. 0. 0. 0. 0. 0.]\n",
      " [0. 0. 0. 0. 0. 0. 0. 0. 1. 0.]\n",
      " [1. 0. 0. 0. 0. 0. 0. 0. 0. 0.]\n",
      " [0. 0. 0. 0. 0. 0. 0. 0. 1. 0.]\n",
      " [0. 0. 0. 0. 1. 0. 0. 0. 0. 0.]], shape=(32, 10), dtype=float32) (32, 10)\n"
     ]
    }
   ],
   "source": [
    "for x,y in training_set:\n",
    "    print (x,x.shape)\n",
    "    print (y,y.shape)\n",
    "    break"
   ]
  },
  {
   "cell_type": "markdown",
   "id": "1d3ef5f0-962c-41d9-9fd1-31626475f61b",
   "metadata": {},
   "source": [
    "## model building"
   ]
  },
  {
   "cell_type": "code",
   "execution_count": 6,
   "id": "8796635a-e2b7-4f14-b9fa-892c15a7afc0",
   "metadata": {},
   "outputs": [],
   "source": [
    "from tensorflow.keras.layers import Dense,Conv2D,Flatten,MaxPool2D,Dropout\n",
    "from tensorflow.keras.models import Sequential"
   ]
  },
  {
   "cell_type": "code",
   "execution_count": 7,
   "id": "3f45ae9d-b979-4295-978b-03fd1cc9e87d",
   "metadata": {},
   "outputs": [],
   "source": [
    "model = Sequential ()"
   ]
  },
  {
   "cell_type": "code",
   "execution_count": 8,
   "id": "df767a6d-31d5-4d29-9267-a5a50148f103",
   "metadata": {},
   "outputs": [],
   "source": [
    "model.add(Conv2D(filters=32,kernel_size=3,padding='same',activation='relu',input_shape=[128,128,3]))\n",
    "model.add(Conv2D(filters=32,kernel_size=3,activation='relu'))\n",
    "model.add(MaxPool2D(pool_size=2,strides=2))"
   ]
  },
  {
   "cell_type": "code",
   "execution_count": 9,
   "id": "bb530977-0091-4d75-8fec-c7e4e5fb1b88",
   "metadata": {},
   "outputs": [],
   "source": [
    "model.add(Conv2D(filters=64,kernel_size=3,padding='same',activation='relu'))\n",
    "model.add(Conv2D(filters=64,kernel_size=3,activation='relu'))\n",
    "model.add(MaxPool2D(pool_size=2,strides=2))"
   ]
  },
  {
   "cell_type": "code",
   "execution_count": 10,
   "id": "11b747f3-e12f-48e8-8013-a2ca6e984d2d",
   "metadata": {},
   "outputs": [],
   "source": [
    "model.add(Conv2D(filters=128,kernel_size=3,padding='same',activation='relu'))\n",
    "model.add(Conv2D(filters=128,kernel_size=3,activation='relu'))\n",
    "model.add(MaxPool2D(pool_size=2,strides=2))"
   ]
  },
  {
   "cell_type": "code",
   "execution_count": 11,
   "id": "8e5f4373-9305-4ce4-a80a-33d4a3e2bec4",
   "metadata": {},
   "outputs": [],
   "source": [
    "model.add(Conv2D(filters=256,kernel_size=3,padding='same',activation='relu'))\n",
    "model.add(Conv2D(filters=256,kernel_size=3,activation='relu'))\n",
    "model.add(MaxPool2D(pool_size=2,strides=2))"
   ]
  },
  {
   "cell_type": "code",
   "execution_count": 12,
   "id": "354042d6-2cd9-4f05-b4a6-23d62398bbfd",
   "metadata": {},
   "outputs": [],
   "source": [
    "model.add(Dropout(0.3))"
   ]
  },
  {
   "cell_type": "code",
   "execution_count": 13,
   "id": "e576d457-5265-47f3-9a74-a94ea59aff44",
   "metadata": {},
   "outputs": [],
   "source": [
    "model.add(Flatten())"
   ]
  },
  {
   "cell_type": "code",
   "execution_count": 14,
   "id": "0138d697-de53-4edb-8ee5-55069c285553",
   "metadata": {},
   "outputs": [],
   "source": [
    "model.add(Dense(units=1024,activation='relu'))"
   ]
  },
  {
   "cell_type": "code",
   "execution_count": 15,
   "id": "e67755fc-f601-4fbb-b94a-121025ca9a82",
   "metadata": {},
   "outputs": [],
   "source": [
    "model.add(Dropout(0.4))"
   ]
  },
  {
   "cell_type": "code",
   "execution_count": 16,
   "id": "0eed144f-88bc-476b-9873-3fc85865ae27",
   "metadata": {},
   "outputs": [],
   "source": [
    "model.add(Dense(units=10,activation='softmax'))"
   ]
  },
  {
   "cell_type": "code",
   "execution_count": 17,
   "id": "5e1f3ad4-b356-4a0e-aa49-432abd1420ac",
   "metadata": {},
   "outputs": [],
   "source": [
    "model.compile(\n",
    "    optimizer=tf.keras.optimizers.Adam(learning_rate=0.0001), \n",
    "    loss='categorical_crossentropy', \n",
    "    metrics=['accuracy']\n",
    ")"
   ]
  },
  {
   "cell_type": "code",
   "execution_count": 18,
   "id": "3dfb56c3-ef71-46a5-9c13-9c3807e4a33f",
   "metadata": {},
   "outputs": [
    {
     "name": "stdout",
     "output_type": "stream",
     "text": [
      "Model: \"sequential\"\n",
      "_________________________________________________________________\n",
      " Layer (type)                Output Shape              Param #   \n",
      "=================================================================\n",
      " conv2d (Conv2D)             (None, 128, 128, 32)      896       \n",
      "                                                                 \n",
      " conv2d_1 (Conv2D)           (None, 126, 126, 32)      9248      \n",
      "                                                                 \n",
      " max_pooling2d (MaxPooling2D  (None, 63, 63, 32)       0         \n",
      " )                                                               \n",
      "                                                                 \n",
      " conv2d_2 (Conv2D)           (None, 63, 63, 64)        18496     \n",
      "                                                                 \n",
      " conv2d_3 (Conv2D)           (None, 61, 61, 64)        36928     \n",
      "                                                                 \n",
      " max_pooling2d_1 (MaxPooling  (None, 30, 30, 64)       0         \n",
      " 2D)                                                             \n",
      "                                                                 \n",
      " conv2d_4 (Conv2D)           (None, 30, 30, 128)       73856     \n",
      "                                                                 \n",
      " conv2d_5 (Conv2D)           (None, 28, 28, 128)       147584    \n",
      "                                                                 \n",
      " max_pooling2d_2 (MaxPooling  (None, 14, 14, 128)      0         \n",
      " 2D)                                                             \n",
      "                                                                 \n",
      " conv2d_6 (Conv2D)           (None, 14, 14, 256)       295168    \n",
      "                                                                 \n",
      " conv2d_7 (Conv2D)           (None, 12, 12, 256)       590080    \n",
      "                                                                 \n",
      " max_pooling2d_3 (MaxPooling  (None, 6, 6, 256)        0         \n",
      " 2D)                                                             \n",
      "                                                                 \n",
      " dropout (Dropout)           (None, 6, 6, 256)         0         \n",
      "                                                                 \n",
      " flatten (Flatten)           (None, 9216)              0         \n",
      "                                                                 \n",
      " dense (Dense)               (None, 1024)              9438208   \n",
      "                                                                 \n",
      " dropout_1 (Dropout)         (None, 1024)              0         \n",
      "                                                                 \n",
      " dense_1 (Dense)             (None, 10)                10250     \n",
      "                                                                 \n",
      "=================================================================\n",
      "Total params: 10,620,714\n",
      "Trainable params: 10,620,714\n",
      "Non-trainable params: 0\n",
      "_________________________________________________________________\n"
     ]
    }
   ],
   "source": [
    "model.summary()"
   ]
  },
  {
   "cell_type": "markdown",
   "id": "bdf1f01f-e2cc-48ae-bb21-e497eeb95328",
   "metadata": {},
   "source": [
    "## traing model\n"
   ]
  },
  {
   "cell_type": "code",
   "execution_count": 19,
   "id": "12618d9a-382a-4590-9722-a0c61986043c",
   "metadata": {},
   "outputs": [
    {
     "name": "stdout",
     "output_type": "stream",
     "text": [
      "Epoch 1/30\n",
      "574/574 [==============================] - 58s 86ms/step - loss: 1.1001 - accuracy: 0.6291 - val_loss: 0.5647 - val_accuracy: 0.8068\n",
      "Epoch 2/30\n",
      "574/574 [==============================] - 32s 56ms/step - loss: 0.4918 - accuracy: 0.8276 - val_loss: 0.3535 - val_accuracy: 0.8822\n",
      "Epoch 3/30\n",
      "574/574 [==============================] - 31s 55ms/step - loss: 0.3470 - accuracy: 0.8800 - val_loss: 0.3113 - val_accuracy: 0.8885\n",
      "Epoch 4/30\n",
      "574/574 [==============================] - 32s 56ms/step - loss: 0.2407 - accuracy: 0.9144 - val_loss: 0.2566 - val_accuracy: 0.9108\n",
      "Epoch 5/30\n",
      "574/574 [==============================] - 35s 61ms/step - loss: 0.1834 - accuracy: 0.9351 - val_loss: 0.2490 - val_accuracy: 0.9145\n",
      "Epoch 6/30\n",
      "574/574 [==============================] - 34s 59ms/step - loss: 0.1458 - accuracy: 0.9482 - val_loss: 0.1749 - val_accuracy: 0.9411\n",
      "Epoch 7/30\n",
      "574/574 [==============================] - 33s 57ms/step - loss: 0.1122 - accuracy: 0.9602 - val_loss: 0.2554 - val_accuracy: 0.9219\n",
      "Epoch 8/30\n",
      "574/574 [==============================] - 32s 56ms/step - loss: 0.1016 - accuracy: 0.9636 - val_loss: 0.1562 - val_accuracy: 0.9509\n",
      "Epoch 9/30\n",
      "574/574 [==============================] - 31s 54ms/step - loss: 0.0801 - accuracy: 0.9724 - val_loss: 0.2827 - val_accuracy: 0.9091\n",
      "Epoch 10/30\n",
      "574/574 [==============================] - 31s 54ms/step - loss: 0.0905 - accuracy: 0.9684 - val_loss: 0.2020 - val_accuracy: 0.9361\n",
      "Epoch 11/30\n",
      "574/574 [==============================] - 31s 55ms/step - loss: 0.0666 - accuracy: 0.9767 - val_loss: 0.1456 - val_accuracy: 0.9555\n",
      "Epoch 12/30\n",
      "574/574 [==============================] - 31s 55ms/step - loss: 0.0660 - accuracy: 0.9771 - val_loss: 0.2097 - val_accuracy: 0.9381\n",
      "Epoch 13/30\n",
      "574/574 [==============================] - 32s 55ms/step - loss: 0.0510 - accuracy: 0.9829 - val_loss: 0.1696 - val_accuracy: 0.9522\n",
      "Epoch 14/30\n",
      "574/574 [==============================] - 31s 54ms/step - loss: 0.0528 - accuracy: 0.9818 - val_loss: 0.1918 - val_accuracy: 0.9418\n",
      "Epoch 15/30\n",
      "574/574 [==============================] - 32s 56ms/step - loss: 0.0526 - accuracy: 0.9822 - val_loss: 0.1177 - val_accuracy: 0.9629\n",
      "Epoch 16/30\n",
      "574/574 [==============================] - 32s 56ms/step - loss: 0.0420 - accuracy: 0.9856 - val_loss: 0.1574 - val_accuracy: 0.9570\n",
      "Epoch 17/30\n",
      "574/574 [==============================] - 32s 55ms/step - loss: 0.0493 - accuracy: 0.9838 - val_loss: 0.1536 - val_accuracy: 0.9566\n",
      "Epoch 18/30\n",
      "574/574 [==============================] - 32s 55ms/step - loss: 0.0435 - accuracy: 0.9860 - val_loss: 0.2256 - val_accuracy: 0.9359\n",
      "Epoch 19/30\n",
      "574/574 [==============================] - 31s 55ms/step - loss: 0.0367 - accuracy: 0.9889 - val_loss: 0.2268 - val_accuracy: 0.9455\n",
      "Epoch 20/30\n",
      "574/574 [==============================] - 32s 55ms/step - loss: 0.0381 - accuracy: 0.9888 - val_loss: 0.1290 - val_accuracy: 0.9644\n",
      "Epoch 21/30\n",
      "574/574 [==============================] - 32s 55ms/step - loss: 0.0361 - accuracy: 0.9873 - val_loss: 0.1726 - val_accuracy: 0.9538\n",
      "Epoch 22/30\n",
      "574/574 [==============================] - 32s 56ms/step - loss: 0.0325 - accuracy: 0.9881 - val_loss: 0.1398 - val_accuracy: 0.9631\n",
      "Epoch 23/30\n",
      "574/574 [==============================] - 32s 56ms/step - loss: 0.0332 - accuracy: 0.9885 - val_loss: 0.2346 - val_accuracy: 0.9435\n",
      "Epoch 24/30\n",
      "574/574 [==============================] - 31s 55ms/step - loss: 0.0263 - accuracy: 0.9916 - val_loss: 0.1105 - val_accuracy: 0.9701\n",
      "Epoch 25/30\n",
      "574/574 [==============================] - 32s 55ms/step - loss: 0.0260 - accuracy: 0.9922 - val_loss: 0.2485 - val_accuracy: 0.9431\n",
      "Epoch 26/30\n",
      "574/574 [==============================] - 32s 55ms/step - loss: 0.0234 - accuracy: 0.9926 - val_loss: 0.1609 - val_accuracy: 0.9597\n",
      "Epoch 27/30\n",
      "574/574 [==============================] - 32s 55ms/step - loss: 0.0273 - accuracy: 0.9906 - val_loss: 0.1218 - val_accuracy: 0.9673\n",
      "Epoch 28/30\n",
      "574/574 [==============================] - 32s 55ms/step - loss: 0.0276 - accuracy: 0.9911 - val_loss: 0.1598 - val_accuracy: 0.9586\n",
      "Epoch 29/30\n",
      "574/574 [==============================] - 32s 55ms/step - loss: 0.0238 - accuracy: 0.9923 - val_loss: 0.1519 - val_accuracy: 0.9629\n",
      "Epoch 30/30\n",
      "574/574 [==============================] - 32s 55ms/step - loss: 0.0244 - accuracy: 0.9918 - val_loss: 0.1559 - val_accuracy: 0.9564\n"
     ]
    }
   ],
   "source": [
    "training_history = model.fit(x=training_set , validation_data=validation_set , epochs =30)\n"
   ]
  },
  {
   "cell_type": "code",
   "execution_count": 20,
   "id": "42570834-286c-4bd1-a312-5edc2cfabbf2",
   "metadata": {},
   "outputs": [
    {
     "name": "stdout",
     "output_type": "stream",
     "text": [
      "574/574 [==============================] - 12s 20ms/step - loss: 0.0082 - accuracy: 0.9971\n"
     ]
    }
   ],
   "source": [
    "train_loss,train_acc = model.evaluate(training_set)"
   ]
  },
  {
   "cell_type": "code",
   "execution_count": 21,
   "id": "5d2efda9-8013-476a-bf53-58eff343fdb1",
   "metadata": {},
   "outputs": [
    {
     "name": "stdout",
     "output_type": "stream",
     "text": [
      "0.008231287822127342 0.997110903263092\n"
     ]
    }
   ],
   "source": [
    "print(train_loss,train_acc)"
   ]
  },
  {
   "cell_type": "code",
   "execution_count": 22,
   "id": "7bc00e80-496a-426a-909f-fbfcf20023ef",
   "metadata": {},
   "outputs": [
    {
     "name": "stdout",
     "output_type": "stream",
     "text": [
      "144/144 [==============================] - 3s 18ms/step - loss: 0.1559 - accuracy: 0.9564\n"
     ]
    }
   ],
   "source": [
    "val_loss,val_acc = model.evaluate(validation_set)"
   ]
  },
  {
   "cell_type": "code",
   "execution_count": 23,
   "id": "4b726c2b-3cd5-49db-9792-de3328d4d473",
   "metadata": {},
   "outputs": [
    {
     "name": "stdout",
     "output_type": "stream",
     "text": [
      "0.15594515204429626 0.9563794732093811\n"
     ]
    }
   ],
   "source": [
    "print(val_loss,val_acc)"
   ]
  },
  {
   "cell_type": "code",
   "execution_count": 24,
   "id": "738154f1-c430-4216-b5cb-94ad4dadc243",
   "metadata": {},
   "outputs": [],
   "source": [
    "model.save(\"trained_model1.keras\")"
   ]
  },
  {
   "cell_type": "code",
   "execution_count": 25,
   "id": "f5eba32e-c2c7-440a-9092-adc69ac8ad91",
   "metadata": {},
   "outputs": [
    {
     "data": {
      "text/plain": [
       "{'loss': [1.1000525951385498,\n",
       "  0.4918162524700165,\n",
       "  0.34697678685188293,\n",
       "  0.24068859219551086,\n",
       "  0.1834462434053421,\n",
       "  0.14581677317619324,\n",
       "  0.11219075322151184,\n",
       "  0.10162954777479172,\n",
       "  0.08013252913951874,\n",
       "  0.09052757918834686,\n",
       "  0.06658131629228592,\n",
       "  0.06601644307374954,\n",
       "  0.05099628120660782,\n",
       "  0.052802521735429764,\n",
       "  0.05258627235889435,\n",
       "  0.041951265186071396,\n",
       "  0.049337487667798996,\n",
       "  0.043515533208847046,\n",
       "  0.036735277622938156,\n",
       "  0.038102373480796814,\n",
       "  0.03611177206039429,\n",
       "  0.032455071806907654,\n",
       "  0.033207278698682785,\n",
       "  0.026269974187016487,\n",
       "  0.02596276067197323,\n",
       "  0.023435577750205994,\n",
       "  0.027277875691652298,\n",
       "  0.027626970782876015,\n",
       "  0.023771829903125763,\n",
       "  0.024355260655283928],\n",
       " 'accuracy': [0.629108726978302,\n",
       "  0.8276369571685791,\n",
       "  0.8799672722816467,\n",
       "  0.91441810131073,\n",
       "  0.9351322054862976,\n",
       "  0.9482147693634033,\n",
       "  0.9602071642875671,\n",
       "  0.963641345500946,\n",
       "  0.9723630547523499,\n",
       "  0.9684382677078247,\n",
       "  0.9766693711280823,\n",
       "  0.9770509600639343,\n",
       "  0.9829381108283997,\n",
       "  0.9817934036254883,\n",
       "  0.9821749925613403,\n",
       "  0.9856091737747192,\n",
       "  0.9837557673454285,\n",
       "  0.986045241355896,\n",
       "  0.9888797998428345,\n",
       "  0.9887707829475403,\n",
       "  0.9872989654541016,\n",
       "  0.9881166815757751,\n",
       "  0.9884982109069824,\n",
       "  0.9916053414344788,\n",
       "  0.9921504259109497,\n",
       "  0.992641031742096,\n",
       "  0.9906241297721863,\n",
       "  0.9910602569580078,\n",
       "  0.9923139810562134,\n",
       "  0.9917688965797424],\n",
       " 'val_loss': [0.56468266248703,\n",
       "  0.3535037636756897,\n",
       "  0.31131601333618164,\n",
       "  0.2565684914588928,\n",
       "  0.2490289807319641,\n",
       "  0.1749480813741684,\n",
       "  0.2553553581237793,\n",
       "  0.1562468260526657,\n",
       "  0.28266504406929016,\n",
       "  0.20201878249645233,\n",
       "  0.14556147158145905,\n",
       "  0.20972608029842377,\n",
       "  0.16964203119277954,\n",
       "  0.1918438971042633,\n",
       "  0.11768773198127747,\n",
       "  0.15737175941467285,\n",
       "  0.15358476340770721,\n",
       "  0.22555947303771973,\n",
       "  0.22684599459171295,\n",
       "  0.12902751564979553,\n",
       "  0.17258404195308685,\n",
       "  0.13977551460266113,\n",
       "  0.23464688658714294,\n",
       "  0.11048107594251633,\n",
       "  0.24847306311130524,\n",
       "  0.16089488565921783,\n",
       "  0.12180405855178833,\n",
       "  0.15978114306926727,\n",
       "  0.15188927948474884,\n",
       "  0.15594516694545746],\n",
       " 'val_accuracy': [0.8067612051963806,\n",
       "  0.8822246193885803,\n",
       "  0.8885496258735657,\n",
       "  0.910796046257019,\n",
       "  0.914503812789917,\n",
       "  0.9411123394966125,\n",
       "  0.9219192862510681,\n",
       "  0.9509269595146179,\n",
       "  0.909051239490509,\n",
       "  0.9360959529876709,\n",
       "  0.9555070996284485,\n",
       "  0.9380589127540588,\n",
       "  0.9522355794906616,\n",
       "  0.941766619682312,\n",
       "  0.9629225730895996,\n",
       "  0.9570338129997253,\n",
       "  0.956597626209259,\n",
       "  0.9358778595924377,\n",
       "  0.94547438621521,\n",
       "  0.9644492864608765,\n",
       "  0.9537622928619385,\n",
       "  0.9631406664848328,\n",
       "  0.943511426448822,\n",
       "  0.9701199531555176,\n",
       "  0.9430752396583557,\n",
       "  0.9596510529518127,\n",
       "  0.967284619808197,\n",
       "  0.9585605263710022,\n",
       "  0.9629225730895996,\n",
       "  0.9563794732093811]}"
      ]
     },
     "execution_count": 25,
     "metadata": {},
     "output_type": "execute_result"
    }
   ],
   "source": [
    "training_history.history"
   ]
  },
  {
   "cell_type": "code",
   "execution_count": 26,
   "id": "e78f6f6d-aa4d-4301-a758-eeed3423da71",
   "metadata": {},
   "outputs": [],
   "source": [
    "import json\n",
    "with open(\"training_hist.json\",\"w\") as f:\n",
    "    json.dump(training_history.history, f)"
   ]
  },
  {
   "cell_type": "code",
   "execution_count": 27,
   "id": "cc3a0437-e8a2-4cf3-ad77-03138b4faa3d",
   "metadata": {},
   "outputs": [
    {
     "data": {
      "image/png": "[encoded data removed]",
      "text/plain": [
       "<Figure size 640x480 with 1 Axes>"
      ]
     },
     "metadata": {},
     "output_type": "display_data"
    }
   ],
   "source": [
    "epochs = [i for i in range(1,31)]\n",
    "plt.plot(epochs, training_history.history['accuracy'],color='red',label='Training Accuracy')\n",
    "plt.plot(epochs, training_history.history['val_accuracy'],color='blue',label='Validation Accuracy')\n",
    "plt.xlabel(\"No. of epochs\")\n",
    "plt.xlabel(\"Accuracy Result\")\n",
    "plt.title(\"Visulaizartion of accuracy result\")\n",
    "plt.legend()\n",
    "plt.show()"
   ]
  },
  {
   "cell_type": "code",
   "execution_count": 28,
   "id": "97d48659-d0de-4b3d-bb1f-3209b28c079e",
   "metadata": {},
   "outputs": [
    {
     "data": {
      "text/plain": [
       "['Tomato___Bacterial_spot',\n",
       " 'Tomato___Early_blight',\n",
       " 'Tomato___Late_blight',\n",
       " 'Tomato___Leaf_Mold',\n",
       " 'Tomato___Septoria_leaf_spot',\n",
       " 'Tomato___Spider_mites Two-spotted_spider_mite',\n",
       " 'Tomato___Target_Spot',\n",
       " 'Tomato___Tomato_Yellow_Leaf_Curl_Virus',\n",
       " 'Tomato___Tomato_mosaic_virus',\n",
       " 'Tomato___healthy']"
      ]
     },
     "execution_count": 28,
     "metadata": {},
     "output_type": "execute_result"
    }
   ],
   "source": [
    "class_name = validation_set.class_names\n",
    "class_name\n"
   ]
  },
  {
   "cell_type": "code",
   "execution_count": 29,
   "id": "6739fec9-0457-4f98-a29a-caa5aec8bfec",
   "metadata": {},
   "outputs": [
    {
     "name": "stdout",
     "output_type": "stream",
     "text": [
      "Found 4585 files belonging to 10 classes.\n"
     ]
    }
   ],
   "source": [
    "test_set = keras.utils.image_dataset_from_directory(\n",
    "    \"valid\",\n",
    "    labels=\"inferred\",\n",
    "    label_mode=\"categorical\",\n",
    "    class_names=None,\n",
    "    color_mode=\"rgb\",\n",
    "    batch_size=32,\n",
    "    image_size=(128, 128),\n",
    "    shuffle=False,\n",
    "    seed=None,\n",
    "    validation_split=None,\n",
    "    subset=None,\n",
    "    interpolation=\"bilinear\",\n",
    "    follow_links=False,\n",
    "    crop_to_aspect_ratio=False,\n",
    ")"
   ]
  },
  {
   "cell_type": "code",
   "execution_count": 30,
   "id": "d9f385ad-250d-44fb-9c77-7880bc0b2b5b",
   "metadata": {},
   "outputs": [
    {
     "name": "stdout",
     "output_type": "stream",
     "text": [
      "144/144 [==============================] - 3s 18ms/step\n"
     ]
    },
    {
     "data": {
      "text/plain": [
       "(array([[9.9999905e-01, 3.5002589e-08, 4.3008348e-09, ..., 9.7710324e-07,\n",
       "         1.8124143e-17, 1.5953498e-12],\n",
       "        [1.0000000e+00, 8.0435575e-11, 9.1907445e-15, ..., 2.9852568e-10,\n",
       "         7.6387286e-20, 1.7175859e-16],\n",
       "        [1.0000000e+00, 1.9212694e-12, 1.7058342e-14, ..., 5.9887165e-11,\n",
       "         2.3152835e-20, 1.4121848e-16],\n",
       "        ...,\n",
       "        [3.7728704e-13, 6.9814480e-15, 3.4298040e-09, ..., 1.6969030e-15,\n",
       "         4.4665165e-15, 1.0000000e+00],\n",
       "        [1.5079225e-10, 5.5246767e-15, 6.7428951e-11, ..., 1.1342043e-14,\n",
       "         6.0989946e-16, 1.0000000e+00],\n",
       "        [1.7258308e-21, 2.1027433e-25, 6.3308598e-15, ..., 3.9509478e-21,\n",
       "         3.4055272e-21, 1.0000000e+00]], dtype=float32),\n",
       " (4585, 10))"
      ]
     },
     "execution_count": 30,
     "metadata": {},
     "output_type": "execute_result"
    }
   ],
   "source": [
    "y_pred = model.predict(test_set)\n",
    "y_pred,y_pred.shape"
   ]
  },
  {
   "cell_type": "code",
   "execution_count": 31,
   "id": "7bb5d429-21a6-48af-8020-7937f6ca7892",
   "metadata": {},
   "outputs": [],
   "source": [
    "predication_categories = tf.argmax(y_pred,axis=1)"
   ]
  },
  {
   "cell_type": "code",
   "execution_count": 32,
   "id": "fb87711e-27f0-45cb-b1f6-abd8947b7e28",
   "metadata": {},
   "outputs": [
    {
     "data": {
      "text/plain": [
       "<tf.Tensor: shape=(4585,), dtype=int64, numpy=array([0, 0, 0, ..., 9, 9, 9], dtype=int64)>"
      ]
     },
     "execution_count": 32,
     "metadata": {},
     "output_type": "execute_result"
    }
   ],
   "source": [
    "predication_categories"
   ]
  },
  {
   "cell_type": "code",
   "execution_count": 33,
   "id": "ef6d38f9-b1ac-436c-899a-b633dfea2731",
   "metadata": {},
   "outputs": [
    {
     "data": {
      "text/plain": [
       "<tf.Tensor: shape=(4585, 10), dtype=float32, numpy=\n",
       "array([[1., 0., 0., ..., 0., 0., 0.],\n",
       "       [1., 0., 0., ..., 0., 0., 0.],\n",
       "       [1., 0., 0., ..., 0., 0., 0.],\n",
       "       ...,\n",
       "       [0., 0., 0., ..., 0., 0., 1.],\n",
       "       [0., 0., 0., ..., 0., 0., 1.],\n",
       "       [0., 0., 0., ..., 0., 0., 1.]], dtype=float32)>"
      ]
     },
     "execution_count": 33,
     "metadata": {},
     "output_type": "execute_result"
    }
   ],
   "source": [
    "true_categories = tf.concat([y for x,y in test_set] ,axis=0)\n",
    "true_categories"
   ]
  },
  {
   "cell_type": "code",
   "execution_count": 34,
   "id": "b70c964c-2031-4762-856c-b5e1ce07b88b",
   "metadata": {},
   "outputs": [
    {
     "data": {
      "text/plain": [
       "<tf.Tensor: shape=(4585,), dtype=int64, numpy=array([0, 0, 0, ..., 9, 9, 9], dtype=int64)>"
      ]
     },
     "execution_count": 34,
     "metadata": {},
     "output_type": "execute_result"
    }
   ],
   "source": [
    "Y_true = tf.argmax(true_categories,axis=1)\n",
    "Y_true"
   ]
  },
  {
   "cell_type": "code",
   "execution_count": 35,
   "id": "0c8309d0-cdd1-4594-b45f-70bb42da5be1",
   "metadata": {},
   "outputs": [],
   "source": [
    "from sklearn.metrics import classification_report , confusion_matrix"
   ]
  },
  {
   "cell_type": "code",
   "execution_count": 36,
   "id": "96343d96-8964-4cda-8859-9a821211e1a1",
   "metadata": {},
   "outputs": [
    {
     "name": "stdout",
     "output_type": "stream",
     "text": [
      "                                               precision    recall  f1-score   support\n",
      "\n",
      "                      Tomato___Bacterial_spot       0.99      0.98      0.98       425\n",
      "                        Tomato___Early_blight       0.98      0.86      0.92       480\n",
      "                         Tomato___Late_blight       0.93      0.96      0.95       463\n",
      "                           Tomato___Leaf_Mold       0.93      0.99      0.96       470\n",
      "                  Tomato___Septoria_leaf_spot       0.90      0.94      0.92       436\n",
      "Tomato___Spider_mites Two-spotted_spider_mite       0.95      0.98      0.96       435\n",
      "                         Tomato___Target_Spot       0.96      0.87      0.91       457\n",
      "       Tomato___Tomato_Yellow_Leaf_Curl_Virus       0.98      1.00      0.99       490\n",
      "                 Tomato___Tomato_mosaic_virus       0.99      1.00      0.99       448\n",
      "                             Tomato___healthy       0.96      0.99      0.97       481\n",
      "\n",
      "                                     accuracy                           0.96      4585\n",
      "                                    macro avg       0.96      0.96      0.96      4585\n",
      "                                 weighted avg       0.96      0.96      0.96      4585\n",
      "\n"
     ]
    }
   ],
   "source": [
    "print(classification_report(Y_true,predication_categories,target_names = class_name))"
   ]
  },
  {
   "cell_type": "code",
   "execution_count": 37,
   "id": "6a317ea1-e638-43bc-a62e-7d61ef048980",
   "metadata": {},
   "outputs": [
    {
     "data": {
      "text/plain": [
       "(10, 10)"
      ]
     },
     "execution_count": 37,
     "metadata": {},
     "output_type": "execute_result"
    }
   ],
   "source": [
    "cm = confusion_matrix(Y_true,predication_categories)\n",
    "cm.shape"
   ]
  },
  {
   "cell_type": "code",
   "execution_count": 38,
   "id": "825b5134-cfe2-47b2-a2b6-eb4300da39fe",
   "metadata": {},
   "outputs": [
    {
     "data": {
      "image/png": "[encoded data removed]",
      "text/plain": [
       "<Figure size 4000x4000 with 2 Axes>"
      ]
     },
     "metadata": {},
     "output_type": "display_data"
    }
   ],
   "source": [
    "plt.figure(figsize=(40,40))\n",
    "sns.heatmap(cm , annot = True , annot_kws = {'size':10})\n",
    "plt.xlabel(\"Predicted class\" , fontsize = 20)\n",
    "plt.ylabel(\"Actual class\", fontsize = 20)\n",
    "plt.title(\"Confusion matrix\",fontsize = 25)\n",
    "plt.show()"
   ]
  },
  {
   "cell_type": "code",
   "execution_count": null,
   "id": "ec9f5107-6b31-4d3a-b344-bdc12607a066",
   "metadata": {},
   "outputs": [],
   "source": []
  }
 ],
 "metadata": {
  "kernelspec": {
   "display_name": "Python 3 (ipykernel)",
   "language": "python",
   "name": "python3"
  },
  "language_info": {
   "codemirror_mode": {
    "name": "ipython",
    "version": 3
   },
   "file_extension": ".py",
   "mimetype": "text/x-python",
   "name": "python",
   "nbconvert_exporter": "python",
   "pygments_lexer": "ipython3",
   "version": "3.10.16"
  }
 },
 "nbformat": 4,
 "nbformat_minor": 5
}
